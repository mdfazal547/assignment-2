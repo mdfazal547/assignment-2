{
 "cells": [
  {
   "cell_type": "code",
   "execution_count": 1,
   "id": "de482ccc-b7dd-4e27-8a64-320cc1b4da40",
   "metadata": {},
   "outputs": [
    {
     "data": {
      "text/plain": [
       "5"
      ]
     },
     "execution_count": 1,
     "metadata": {},
     "output_type": "execute_result"
    }
   ],
   "source": [
    "3+2"
   ]
  },
  {
   "cell_type": "code",
   "execution_count": 96,
   "id": "0def2462-433c-442f-b8e8-6ce7c8024e1a",
   "metadata": {},
   "outputs": [],
   "source": [
    "class car :\n",
    "    def __init__( self, year, make, model, speed):\n",
    "        self.__year = year\n",
    "        self.__make = make\n",
    "        self.__model = model\n",
    "        self.__speed = 0\n",
    "\n",
    "    def set_speed(self,speed):\n",
    "        self.__speed = 0 if speed < 0 else speed\n",
    "\n",
    "    def get_speed(self,):\n",
    "        return self.__speed"
   ]
  },
  {
   "cell_type": "code",
   "execution_count": 40,
   "id": "39edb7ab-7a95-4c54-a37f-200c1e1060af",
   "metadata": {},
   "outputs": [],
   "source": [
    "c = car(2021, \"toyata\",\"innova\",12)"
   ]
  },
  {
   "cell_type": "code",
   "execution_count": 42,
   "id": "7cee6932-c51d-4a22-913c-99b915474fa5",
   "metadata": {},
   "outputs": [
    {
     "data": {
      "text/plain": [
       "2021"
      ]
     },
     "execution_count": 42,
     "metadata": {},
     "output_type": "execute_result"
    }
   ],
   "source": [
    "c._car__year"
   ]
  },
  {
   "cell_type": "code",
   "execution_count": 48,
   "id": "1c6a8f20-bf56-4424-b086-4dacad26e612",
   "metadata": {},
   "outputs": [],
   "source": [
    "c.set_speed(-467)"
   ]
  },
  {
   "cell_type": "code",
   "execution_count": 93,
   "id": "b20c068e-17ff-4abe-92ff-d89ffbb2adb2",
   "metadata": {},
   "outputs": [
    {
     "data": {
      "text/plain": [
       "0"
      ]
     },
     "execution_count": 93,
     "metadata": {},
     "output_type": "execute_result"
    }
   ],
   "source": [
    "c.get_speed()"
   ]
  },
  {
   "cell_type": "code",
   "execution_count": 204,
   "id": "a69e0392-56ff-4f47-93bc-7a626ae499f4",
   "metadata": {},
   "outputs": [
    {
     "data": {
      "text/plain": [
       "6"
      ]
     },
     "execution_count": 204,
     "metadata": {},
     "output_type": "execute_result"
    }
   ],
   "source": [
    "3+3"
   ]
  },
  {
   "cell_type": "code",
   "execution_count": 217,
   "id": "a4161339-0176-484e-94ae-b3087418f16f",
   "metadata": {},
   "outputs": [],
   "source": [
    "class bank_account :\n",
    "    def __init__(self,balance):\n",
    "        self.__balance = balance\n",
    "\n",
    "    def deposit(self,amount):\n",
    "        self.__balance = self.__balance + amount\n",
    "\n",
    "    def withraw(self,amount):\n",
    "        if self.__balance >= amount:\n",
    "           self.__balance = self.__balance - amount\n",
    "           return True\n",
    "        else:\n",
    "           return False\n",
    "\n",
    "    def get_balance(self):\n",
    "        return self._balance"
   ]
  },
  {
   "cell_type": "code",
   "execution_count": 219,
   "id": "91b7410d-a0a0-4568-a99b-7a4e745daa0f",
   "metadata": {},
   "outputs": [],
   "source": [
    "fazal = bank_account(2000)"
   ]
  },
  {
   "cell_type": "code",
   "execution_count": 226,
   "id": "4e09eabe-50d0-4df6-aa54-a6d787cfd864",
   "metadata": {},
   "outputs": [],
   "source": [
    "fazal.deposit(1000)"
   ]
  },
  {
   "cell_type": "code",
   "execution_count": 232,
   "id": "ccbb3923-13ff-4bef-a31d-709178262d33",
   "metadata": {},
   "outputs": [
    {
     "data": {
      "text/plain": [
       "True"
      ]
     },
     "execution_count": 232,
     "metadata": {},
     "output_type": "execute_result"
    }
   ],
   "source": [
    "fazal.withraw(1000)"
   ]
  },
  {
   "cell_type": "code",
   "execution_count": 230,
   "id": "4f4587ca-e95d-417a-b892-cacd941afc90",
   "metadata": {},
   "outputs": [
    {
     "ename": "AttributeError",
     "evalue": "'bank_account' object has no attribute '_balance'",
     "output_type": "error",
     "traceback": [
      "\u001b[0;31m---------------------------------------------------------------------------\u001b[0m",
      "\u001b[0;31mAttributeError\u001b[0m                            Traceback (most recent call last)",
      "Cell \u001b[0;32mIn[230], line 1\u001b[0m\n\u001b[0;32m----> 1\u001b[0m fazal\u001b[38;5;241m.\u001b[39mget_balance()\n",
      "Cell \u001b[0;32mIn[217], line 16\u001b[0m, in \u001b[0;36mbank_account.get_balance\u001b[0;34m(self)\u001b[0m\n\u001b[1;32m     15\u001b[0m \u001b[38;5;28;01mdef\u001b[39;00m \u001b[38;5;21mget_balance\u001b[39m(\u001b[38;5;28mself\u001b[39m):\n\u001b[0;32m---> 16\u001b[0m     \u001b[38;5;28;01mreturn\u001b[39;00m \u001b[38;5;28mself\u001b[39m\u001b[38;5;241m.\u001b[39m_balance\n",
      "\u001b[0;31mAttributeError\u001b[0m: 'bank_account' object has no attribute '_balance'"
     ]
    }
   ],
   "source": [
    "fazal.get_balance()"
   ]
  },
  {
   "cell_type": "code",
   "execution_count": 234,
   "id": "13e180a3-d028-425d-859e-a2b384fc572e",
   "metadata": {},
   "outputs": [],
   "source": [
    "class test:\n",
    "    def test_meth(self):\n",
    "        return \"this is my first class\""
   ]
  },
  {
   "cell_type": "code",
   "execution_count": 242,
   "id": "e221d248-79b8-4a98-acbf-222bfbd7f56e",
   "metadata": {},
   "outputs": [],
   "source": [
    "class child_test(test):\n",
    "    pass\n",
    "    "
   ]
  },
  {
   "cell_type": "code",
   "execution_count": 244,
   "id": "e08e624a-4db5-49d2-a358-b12eef3e7db4",
   "metadata": {},
   "outputs": [],
   "source": [
    "child_test_obj = child_test()\n"
   ]
  },
  {
   "cell_type": "code",
   "execution_count": 246,
   "id": "ec0d673e-bb37-44e3-b184-e5d144dd60ed",
   "metadata": {},
   "outputs": [
    {
     "data": {
      "text/plain": [
       "'this is my first class'"
      ]
     },
     "execution_count": 246,
     "metadata": {},
     "output_type": "execute_result"
    }
   ],
   "source": [
    "child_test_obj.test_meth()"
   ]
  },
  {
   "cell_type": "code",
   "execution_count": 248,
   "id": "369bc15b-303b-420c-891c-020019242752",
   "metadata": {},
   "outputs": [
    {
     "data": {
      "text/plain": [
       "6"
      ]
     },
     "execution_count": 248,
     "metadata": {},
     "output_type": "execute_result"
    }
   ],
   "source": [
    "3+3"
   ]
  },
  {
   "cell_type": "code",
   "execution_count": 252,
   "id": "69e14986-0063-44f1-94f2-2af90b954811",
   "metadata": {},
   "outputs": [],
   "source": [
    "class class1:\n",
    "    def test_classe1(self):\n",
    "        return \"this is my first classe 1\""
   ]
  },
  {
   "cell_type": "code",
   "execution_count": 254,
   "id": "3217ea8f-c853-4861-9e66-b861b30f2dcf",
   "metadata": {},
   "outputs": [],
   "source": [
    "class class2(classe1):\n",
    "    def test_class2(self):\n",
    "        return \"this is my second class 2\""
   ]
  },
  {
   "cell_type": "code",
   "execution_count": 256,
   "id": "d1fc45f7-db21-4cae-aaa4-3a481f28f18c",
   "metadata": {},
   "outputs": [],
   "source": [
    "class class3(class2):\n",
    "    pass"
   ]
  },
  {
   "cell_type": "code",
   "execution_count": 264,
   "id": "b43ee2f6-a391-46ca-b1b3-22d0ec84aa60",
   "metadata": {},
   "outputs": [],
   "source": [
    "obj_class3 = class3()"
   ]
  },
  {
   "cell_type": "code",
   "execution_count": 268,
   "id": "bd3e11ee-6dee-4c97-95b9-2ab34fc430bd",
   "metadata": {},
   "outputs": [
    {
     "data": {
      "text/plain": [
       "'this is my first classe 1'"
      ]
     },
     "execution_count": 268,
     "metadata": {},
     "output_type": "execute_result"
    }
   ],
   "source": [
    "obj_class3.classe1()"
   ]
  },
  {
   "cell_type": "code",
   "execution_count": 270,
   "id": "c3468ae3-c3ff-4001-9124-00f8df213fda",
   "metadata": {},
   "outputs": [
    {
     "data": {
      "text/plain": [
       "'this is my second class 2'"
      ]
     },
     "execution_count": 270,
     "metadata": {},
     "output_type": "execute_result"
    }
   ],
   "source": [
    "obj_class3.test_class2()"
   ]
  },
  {
   "cell_type": "code",
   "execution_count": 279,
   "id": "7fa05245-c0e7-4f41-a4a4-e1f726c6afc1",
   "metadata": {},
   "outputs": [],
   "source": [
    "import abc \n",
    "class pwskills: \n",
    "    \n",
    "    @abc.abstractmethod\n",
    "    def student_details(self):\n",
    "        pass  \n",
    "        \n",
    "    @abc.abstractmethod\n",
    "    def student_assignment(self):\n",
    "        pass\n",
    "\n",
    "    @abc.abstractmethod\n",
    "    def student_marks(self):\n",
    "        pass\n",
    "    \n",
    "     "
   ]
  },
  {
   "cell_type": "code",
   "execution_count": 299,
   "id": "20b453f1-029f-4b2b-b79f-1850dfc23fbe",
   "metadata": {},
   "outputs": [],
   "source": [
    "class student_details(pwskills):\n",
    "    \n",
    "     def student_details(self):\n",
    "        return \"this is a meth for taking student details\"\n",
    "\n",
    "\n",
    "     def student_assignment(self):\n",
    "         return \"this is a meth for assignmet details for particular student\"\n",
    "\n",
    "       \n",
    "\n"
   ]
  },
  {
   "cell_type": "code",
   "execution_count": 301,
   "id": "ac958424-b4f2-4321-b131-d9c6ebddd921",
   "metadata": {},
   "outputs": [],
   "source": [
    "class data_science(pwskills):\n",
    "\n",
    "    def student_details(self):\n",
    "        return \"this will return a student details for data science masters\"\n",
    "\n",
    "    def studen_assignmet(self):\n",
    "        return \"this will give you a student assignmet detailse for science master\""
   ]
  },
  {
   "cell_type": "code",
   "execution_count": 303,
   "id": "53768f22-c908-4e23-b748-69e10d7ee4ec",
   "metadata": {},
   "outputs": [
    {
     "data": {
      "text/plain": [
       "'this will return a student details for data science masters'"
      ]
     },
     "execution_count": 303,
     "metadata": {},
     "output_type": "execute_result"
    }
   ],
   "source": [
    "ds = data_science()\n",
    "ds.student_details()"
   ]
  },
  {
   "cell_type": "code",
   "execution_count": 309,
   "id": "00e0ac56-c4fa-46f2-aaa4-e52c459ac8d3",
   "metadata": {},
   "outputs": [
    {
     "data": {
      "text/plain": [
       "'this is a meth for taking student details'"
      ]
     },
     "execution_count": 309,
     "metadata": {},
     "output_type": "execute_result"
    }
   ],
   "source": [
    "sd = student_details()\n",
    "sd.student_details()"
   ]
  },
  {
   "cell_type": "code",
   "execution_count": null,
   "id": "7a2039d7-d5a4-4c48-b65a-83aa530aad5c",
   "metadata": {},
   "outputs": [],
   "source": []
  }
 ],
 "metadata": {
  "kernelspec": {
   "display_name": "Python 3 (ipykernel)",
   "language": "python",
   "name": "python3"
  },
  "language_info": {
   "codemirror_mode": {
    "name": "ipython",
    "version": 3
   },
   "file_extension": ".py",
   "mimetype": "text/x-python",
   "name": "python",
   "nbconvert_exporter": "python",
   "pygments_lexer": "ipython3",
   "version": "3.12.4"
  }
 },
 "nbformat": 4,
 "nbformat_minor": 5
}
